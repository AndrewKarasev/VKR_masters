{
 "cells": [
  {
   "attachments": {},
   "cell_type": "markdown",
   "id": "hourly-institution",
   "metadata": {},
   "source": [
    "# ВКР. Анализ данных оригинальных бизнес-процессов\n",
    "## Данный модуль направлен на анализ необходимости изменений в составе персонала, как запрашивает руководитель команды\n",
    "Средняя занятость ресурсов по результатам эксперимента: руководитель - 0.992, разработчик - 0.976, стажеры - 0.769\n",
    "\n",
    "\n",
    "Два стажера выполняют проекты Web, Report; руководитель - Portal, Database; разработчик - Infrastructure"
   ]
  },
  {
   "cell_type": "code",
   "execution_count": 1,
   "id": "considered-british",
   "metadata": {},
   "outputs": [],
   "source": [
    "import pandas as pd\n",
    "import numpy as np\n",
    "from scipy import stats\n",
    "import matplotlib.pyplot as plt\n",
    "%matplotlib inline"
   ]
  },
  {
   "cell_type": "code",
   "execution_count": 2,
   "id": "expensive-edmonton",
   "metadata": {},
   "outputs": [],
   "source": [
    "nIterations = 100"
   ]
  },
  {
   "cell_type": "markdown",
   "id": "rural-reunion",
   "metadata": {},
   "source": [
    "### Датасеты содержат данные о всех выполненных заданиях по каждому ресурсу за 100 итераций.\n",
    "queue_time - время в очереди, wip_time - время в работе, prm_time - в вытеснении (пришла более приоритетная задача). Время указано в рабочих часах"
   ]
  },
  {
   "cell_type": "code",
   "execution_count": 3,
   "id": "built-granny",
   "metadata": {},
   "outputs": [],
   "source": [
    "managerDF = pd.read_excel(\"D:/YandexDisk/ВКР/Model/VKR/main_final_v2/manager_tasks.xlsx\")\n",
    "developerDF = pd.read_excel(\"D:/YandexDisk/ВКР/Model/VKR/main_final_v2/developer_tasks.xlsx\")\n",
    "internsDF = pd.read_excel(\"D:/YandexDisk/ВКР/Model/VKR/main_final_v2/interns_tasks.xlsx\")"
   ]
  },
  {
   "cell_type": "code",
   "execution_count": 4,
   "id": "representative-keeping",
   "metadata": {},
   "outputs": [],
   "source": [
    "labelsDict = {\n",
    "    11:\"Meetings\",\n",
    "    22:\"SCSM_ServiceNonAdmin\",\n",
    "    23:\"SCSM_ServiceAdmin\",\n",
    "    24:\"SCSM_Report\",\n",
    "    25:\"SCSM_Web\",\n",
    "    34:\"JIRA_Report\",\n",
    "    35:\"JIRA_Web\",\n",
    "    36:\"JIRA_Infrastructure\",\n",
    "    37:\"JIRA_Portal\",\n",
    "    38:\"JIRA_Database\",\n",
    "    49:\"Learning\"\n",
    "}"
   ]
  },
  {
   "cell_type": "code",
   "execution_count": 5,
   "id": "documentary-declaration",
   "metadata": {},
   "outputs": [],
   "source": [
    "managerDF[\"source_task\"] = managerDF[\"source_id\"].map(labelsDict)\n",
    "managerDF[\"staff\"] = \"manager\"\n",
    "developerDF[\"source_task\"] = developerDF[\"source_id\"].map(labelsDict)\n",
    "developerDF[\"staff\"] = \"developer\"\n",
    "internsDF[\"source_task\"] = internsDF[\"source_id\"].map(labelsDict)\n",
    "internsDF[\"staff\"] = \"interns\""
   ]
  },
  {
   "cell_type": "code",
   "execution_count": 6,
   "id": "premium-draft",
   "metadata": {},
   "outputs": [],
   "source": [
    "managerDFformatted = managerDF[[\"source_task\",\"queue_time\",\"wip_time\",\"prm_time\",\"staff\"]]\n",
    "developerDFformatted = developerDF[[\"source_task\",\"queue_time\",\"wip_time\",\"prm_time\",\"staff\"]]\n",
    "internsDFformatted = internsDF[[\"source_task\",\"queue_time\",\"wip_time\",\"prm_time\",\"staff\"]]"
   ]
  },
  {
   "cell_type": "code",
   "execution_count": 7,
   "id": "lightweight-vintage",
   "metadata": {},
   "outputs": [],
   "source": [
    "df_full = pd.concat([managerDFformatted,developerDFformatted,internsDFformatted], ignore_index = True)"
   ]
  },
  {
   "cell_type": "code",
   "execution_count": 8,
   "id": "governmental-aruba",
   "metadata": {},
   "outputs": [
    {
     "data": {
      "text/html": [
       "<div>\n",
       "<style scoped>\n",
       "    .dataframe tbody tr th:only-of-type {\n",
       "        vertical-align: middle;\n",
       "    }\n",
       "\n",
       "    .dataframe tbody tr th {\n",
       "        vertical-align: top;\n",
       "    }\n",
       "\n",
       "    .dataframe thead th {\n",
       "        text-align: right;\n",
       "    }\n",
       "</style>\n",
       "<table border=\"1\" class=\"dataframe\">\n",
       "  <thead>\n",
       "    <tr style=\"text-align: right;\">\n",
       "      <th></th>\n",
       "      <th>source_task</th>\n",
       "      <th>queue_time</th>\n",
       "      <th>wip_time</th>\n",
       "      <th>prm_time</th>\n",
       "      <th>staff</th>\n",
       "    </tr>\n",
       "  </thead>\n",
       "  <tbody>\n",
       "    <tr>\n",
       "      <th>0</th>\n",
       "      <td>Meetings</td>\n",
       "      <td>0.000000</td>\n",
       "      <td>1.490695</td>\n",
       "      <td>0.0</td>\n",
       "      <td>manager</td>\n",
       "    </tr>\n",
       "    <tr>\n",
       "      <th>1</th>\n",
       "      <td>Meetings</td>\n",
       "      <td>0.000000</td>\n",
       "      <td>1.206877</td>\n",
       "      <td>0.0</td>\n",
       "      <td>manager</td>\n",
       "    </tr>\n",
       "    <tr>\n",
       "      <th>2</th>\n",
       "      <td>Meetings</td>\n",
       "      <td>0.000000</td>\n",
       "      <td>1.944654</td>\n",
       "      <td>0.0</td>\n",
       "      <td>manager</td>\n",
       "    </tr>\n",
       "    <tr>\n",
       "      <th>3</th>\n",
       "      <td>SCSM_ServiceAdmin</td>\n",
       "      <td>14.650000</td>\n",
       "      <td>0.991680</td>\n",
       "      <td>0.0</td>\n",
       "      <td>manager</td>\n",
       "    </tr>\n",
       "    <tr>\n",
       "      <th>4</th>\n",
       "      <td>SCSM_ServiceNonAdmin</td>\n",
       "      <td>15.650000</td>\n",
       "      <td>0.099396</td>\n",
       "      <td>0.0</td>\n",
       "      <td>manager</td>\n",
       "    </tr>\n",
       "    <tr>\n",
       "      <th>...</th>\n",
       "      <td>...</td>\n",
       "      <td>...</td>\n",
       "      <td>...</td>\n",
       "      <td>...</td>\n",
       "      <td>...</td>\n",
       "    </tr>\n",
       "    <tr>\n",
       "      <th>72146</th>\n",
       "      <td>SCSM_ServiceNonAdmin</td>\n",
       "      <td>0.450000</td>\n",
       "      <td>0.102317</td>\n",
       "      <td>0.0</td>\n",
       "      <td>interns</td>\n",
       "    </tr>\n",
       "    <tr>\n",
       "      <th>72147</th>\n",
       "      <td>SCSM_ServiceNonAdmin</td>\n",
       "      <td>0.550000</td>\n",
       "      <td>0.121916</td>\n",
       "      <td>0.0</td>\n",
       "      <td>interns</td>\n",
       "    </tr>\n",
       "    <tr>\n",
       "      <th>72148</th>\n",
       "      <td>SCSM_ServiceNonAdmin</td>\n",
       "      <td>0.516667</td>\n",
       "      <td>0.181062</td>\n",
       "      <td>0.0</td>\n",
       "      <td>interns</td>\n",
       "    </tr>\n",
       "    <tr>\n",
       "      <th>72149</th>\n",
       "      <td>SCSM_ServiceNonAdmin</td>\n",
       "      <td>0.666667</td>\n",
       "      <td>0.096688</td>\n",
       "      <td>0.0</td>\n",
       "      <td>interns</td>\n",
       "    </tr>\n",
       "    <tr>\n",
       "      <th>72150</th>\n",
       "      <td>SCSM_ServiceNonAdmin</td>\n",
       "      <td>0.000000</td>\n",
       "      <td>0.202321</td>\n",
       "      <td>0.0</td>\n",
       "      <td>interns</td>\n",
       "    </tr>\n",
       "  </tbody>\n",
       "</table>\n",
       "<p>72151 rows × 5 columns</p>\n",
       "</div>"
      ],
      "text/plain": [
       "                source_task  queue_time  wip_time  prm_time    staff\n",
       "0                  Meetings    0.000000  1.490695       0.0  manager\n",
       "1                  Meetings    0.000000  1.206877       0.0  manager\n",
       "2                  Meetings    0.000000  1.944654       0.0  manager\n",
       "3         SCSM_ServiceAdmin   14.650000  0.991680       0.0  manager\n",
       "4      SCSM_ServiceNonAdmin   15.650000  0.099396       0.0  manager\n",
       "...                     ...         ...       ...       ...      ...\n",
       "72146  SCSM_ServiceNonAdmin    0.450000  0.102317       0.0  interns\n",
       "72147  SCSM_ServiceNonAdmin    0.550000  0.121916       0.0  interns\n",
       "72148  SCSM_ServiceNonAdmin    0.516667  0.181062       0.0  interns\n",
       "72149  SCSM_ServiceNonAdmin    0.666667  0.096688       0.0  interns\n",
       "72150  SCSM_ServiceNonAdmin    0.000000  0.202321       0.0  interns\n",
       "\n",
       "[72151 rows x 5 columns]"
      ]
     },
     "execution_count": 8,
     "metadata": {},
     "output_type": "execute_result"
    }
   ],
   "source": [
    "df_full"
   ]
  },
  {
   "cell_type": "code",
   "execution_count": 9,
   "id": "aerial-terror",
   "metadata": {},
   "outputs": [
    {
     "data": {
      "text/html": [
       "<div>\n",
       "<style scoped>\n",
       "    .dataframe tbody tr th:only-of-type {\n",
       "        vertical-align: middle;\n",
       "    }\n",
       "\n",
       "    .dataframe tbody tr th {\n",
       "        vertical-align: top;\n",
       "    }\n",
       "\n",
       "    .dataframe thead th {\n",
       "        text-align: right;\n",
       "    }\n",
       "</style>\n",
       "<table border=\"1\" class=\"dataframe\">\n",
       "  <thead>\n",
       "    <tr style=\"text-align: right;\">\n",
       "      <th></th>\n",
       "      <th>queue_time</th>\n",
       "      <th>wip_time</th>\n",
       "      <th>prm_time</th>\n",
       "    </tr>\n",
       "    <tr>\n",
       "      <th>source_task</th>\n",
       "      <th></th>\n",
       "      <th></th>\n",
       "      <th></th>\n",
       "    </tr>\n",
       "  </thead>\n",
       "  <tbody>\n",
       "    <tr>\n",
       "      <th>JIRA_Database</th>\n",
       "      <td>342.296970</td>\n",
       "      <td>203.893364</td>\n",
       "      <td>44.150547</td>\n",
       "    </tr>\n",
       "    <tr>\n",
       "      <th>JIRA_Infrastructure</th>\n",
       "      <td>205.310426</td>\n",
       "      <td>533.778515</td>\n",
       "      <td>3.701418</td>\n",
       "    </tr>\n",
       "    <tr>\n",
       "      <th>JIRA_Portal</th>\n",
       "      <td>409.944564</td>\n",
       "      <td>127.066765</td>\n",
       "      <td>36.063466</td>\n",
       "    </tr>\n",
       "    <tr>\n",
       "      <th>JIRA_Report</th>\n",
       "      <td>77.707804</td>\n",
       "      <td>62.242219</td>\n",
       "      <td>7.353868</td>\n",
       "    </tr>\n",
       "    <tr>\n",
       "      <th>JIRA_Web</th>\n",
       "      <td>134.480924</td>\n",
       "      <td>87.496020</td>\n",
       "      <td>6.410503</td>\n",
       "    </tr>\n",
       "    <tr>\n",
       "      <th>Meetings</th>\n",
       "      <td>0.000000</td>\n",
       "      <td>1.503391</td>\n",
       "      <td>0.000000</td>\n",
       "    </tr>\n",
       "    <tr>\n",
       "      <th>SCSM_Report</th>\n",
       "      <td>0.168280</td>\n",
       "      <td>2.981937</td>\n",
       "      <td>0.190015</td>\n",
       "    </tr>\n",
       "    <tr>\n",
       "      <th>SCSM_ServiceAdmin</th>\n",
       "      <td>1.180206</td>\n",
       "      <td>0.802703</td>\n",
       "      <td>0.066882</td>\n",
       "    </tr>\n",
       "    <tr>\n",
       "      <th>SCSM_ServiceNonAdmin</th>\n",
       "      <td>0.379005</td>\n",
       "      <td>0.173397</td>\n",
       "      <td>0.004096</td>\n",
       "    </tr>\n",
       "    <tr>\n",
       "      <th>SCSM_Web</th>\n",
       "      <td>0.093510</td>\n",
       "      <td>2.495210</td>\n",
       "      <td>0.000000</td>\n",
       "    </tr>\n",
       "  </tbody>\n",
       "</table>\n",
       "</div>"
      ],
      "text/plain": [
       "                      queue_time    wip_time   prm_time\n",
       "source_task                                            \n",
       "JIRA_Database         342.296970  203.893364  44.150547\n",
       "JIRA_Infrastructure   205.310426  533.778515   3.701418\n",
       "JIRA_Portal           409.944564  127.066765  36.063466\n",
       "JIRA_Report            77.707804   62.242219   7.353868\n",
       "JIRA_Web              134.480924   87.496020   6.410503\n",
       "Meetings                0.000000    1.503391   0.000000\n",
       "SCSM_Report             0.168280    2.981937   0.190015\n",
       "SCSM_ServiceAdmin       1.180206    0.802703   0.066882\n",
       "SCSM_ServiceNonAdmin    0.379005    0.173397   0.004096\n",
       "SCSM_Web                0.093510    2.495210   0.000000"
      ]
     },
     "execution_count": 9,
     "metadata": {},
     "output_type": "execute_result"
    }
   ],
   "source": [
    "df_full.groupby([\"source_task\"]).mean()"
   ]
  },
  {
   "cell_type": "markdown",
   "id": "instructional-spanish",
   "metadata": {},
   "source": [
    "Мелкие задачи из SCSM выполняются быстро, они дальше не рассматриваются"
   ]
  },
  {
   "cell_type": "code",
   "execution_count": 10,
   "id": "hawaiian-winter",
   "metadata": {},
   "outputs": [
    {
     "data": {
      "text/html": [
       "<div>\n",
       "<style scoped>\n",
       "    .dataframe tbody tr th:only-of-type {\n",
       "        vertical-align: middle;\n",
       "    }\n",
       "\n",
       "    .dataframe tbody tr th {\n",
       "        vertical-align: top;\n",
       "    }\n",
       "\n",
       "    .dataframe thead th {\n",
       "        text-align: right;\n",
       "    }\n",
       "</style>\n",
       "<table border=\"1\" class=\"dataframe\">\n",
       "  <thead>\n",
       "    <tr style=\"text-align: right;\">\n",
       "      <th></th>\n",
       "      <th>source_task</th>\n",
       "      <th>queue_time</th>\n",
       "      <th>wip_time</th>\n",
       "      <th>prm_time</th>\n",
       "      <th>staff</th>\n",
       "    </tr>\n",
       "  </thead>\n",
       "  <tbody>\n",
       "    <tr>\n",
       "      <th>32</th>\n",
       "      <td>JIRA_Portal</td>\n",
       "      <td>24.750000</td>\n",
       "      <td>136.590347</td>\n",
       "      <td>50.833333</td>\n",
       "      <td>manager</td>\n",
       "    </tr>\n",
       "    <tr>\n",
       "      <th>74</th>\n",
       "      <td>JIRA_Database</td>\n",
       "      <td>216.333333</td>\n",
       "      <td>205.232939</td>\n",
       "      <td>67.866667</td>\n",
       "      <td>manager</td>\n",
       "    </tr>\n",
       "    <tr>\n",
       "      <th>119</th>\n",
       "      <td>JIRA_Database</td>\n",
       "      <td>0.000000</td>\n",
       "      <td>171.284570</td>\n",
       "      <td>43.200000</td>\n",
       "      <td>manager</td>\n",
       "    </tr>\n",
       "    <tr>\n",
       "      <th>156</th>\n",
       "      <td>JIRA_Database</td>\n",
       "      <td>182.283333</td>\n",
       "      <td>222.193907</td>\n",
       "      <td>54.000000</td>\n",
       "      <td>manager</td>\n",
       "    </tr>\n",
       "    <tr>\n",
       "      <th>191</th>\n",
       "      <td>JIRA_Database</td>\n",
       "      <td>257.350000</td>\n",
       "      <td>209.735215</td>\n",
       "      <td>51.116667</td>\n",
       "      <td>manager</td>\n",
       "    </tr>\n",
       "    <tr>\n",
       "      <th>...</th>\n",
       "      <td>...</td>\n",
       "      <td>...</td>\n",
       "      <td>...</td>\n",
       "      <td>...</td>\n",
       "      <td>...</td>\n",
       "    </tr>\n",
       "    <tr>\n",
       "      <th>72039</th>\n",
       "      <td>JIRA_Web</td>\n",
       "      <td>0.000000</td>\n",
       "      <td>138.766841</td>\n",
       "      <td>12.733333</td>\n",
       "      <td>interns</td>\n",
       "    </tr>\n",
       "    <tr>\n",
       "      <th>72048</th>\n",
       "      <td>JIRA_Web</td>\n",
       "      <td>0.000000</td>\n",
       "      <td>133.662309</td>\n",
       "      <td>11.383333</td>\n",
       "      <td>interns</td>\n",
       "    </tr>\n",
       "    <tr>\n",
       "      <th>72057</th>\n",
       "      <td>JIRA_Web</td>\n",
       "      <td>91.133333</td>\n",
       "      <td>87.165701</td>\n",
       "      <td>6.633333</td>\n",
       "      <td>interns</td>\n",
       "    </tr>\n",
       "    <tr>\n",
       "      <th>72060</th>\n",
       "      <td>JIRA_Web</td>\n",
       "      <td>14.216667</td>\n",
       "      <td>65.616892</td>\n",
       "      <td>3.300000</td>\n",
       "      <td>interns</td>\n",
       "    </tr>\n",
       "    <tr>\n",
       "      <th>72126</th>\n",
       "      <td>JIRA_Web</td>\n",
       "      <td>17.033333</td>\n",
       "      <td>127.225272</td>\n",
       "      <td>7.483333</td>\n",
       "      <td>interns</td>\n",
       "    </tr>\n",
       "  </tbody>\n",
       "</table>\n",
       "<p>3651 rows × 5 columns</p>\n",
       "</div>"
      ],
      "text/plain": [
       "         source_task  queue_time    wip_time   prm_time    staff\n",
       "32       JIRA_Portal   24.750000  136.590347  50.833333  manager\n",
       "74     JIRA_Database  216.333333  205.232939  67.866667  manager\n",
       "119    JIRA_Database    0.000000  171.284570  43.200000  manager\n",
       "156    JIRA_Database  182.283333  222.193907  54.000000  manager\n",
       "191    JIRA_Database  257.350000  209.735215  51.116667  manager\n",
       "...              ...         ...         ...        ...      ...\n",
       "72039       JIRA_Web    0.000000  138.766841  12.733333  interns\n",
       "72048       JIRA_Web    0.000000  133.662309  11.383333  interns\n",
       "72057       JIRA_Web   91.133333   87.165701   6.633333  interns\n",
       "72060       JIRA_Web   14.216667   65.616892   3.300000  interns\n",
       "72126       JIRA_Web   17.033333  127.225272   7.483333  interns\n",
       "\n",
       "[3651 rows x 5 columns]"
      ]
     },
     "execution_count": 10,
     "metadata": {},
     "output_type": "execute_result"
    }
   ],
   "source": [
    "df_fullJira = df_full[df_full[\"source_task\"].str.contains(\"JIRA\")]\n",
    "df_fullJira"
   ]
  },
  {
   "cell_type": "code",
   "execution_count": 11,
   "id": "taken-agreement",
   "metadata": {},
   "outputs": [
    {
     "data": {
      "text/plain": [
       "<AxesSubplot:ylabel='source_task'>"
      ]
     },
     "execution_count": 11,
     "metadata": {},
     "output_type": "execute_result"
    },
    {
     "data": {
      "image/png": "[encoded data removed]",
      "text/plain": [
       "<Figure size 432x288 with 1 Axes>"
      ]
     },
     "metadata": {
      "needs_background": "light"
     },
     "output_type": "display_data"
    }
   ],
   "source": [
    "df_fullJira.groupby(\"source_task\").mean().plot(kind = \"barh\", stacked = True, sort_columns = True)"
   ]
  },
  {
   "cell_type": "markdown",
   "id": "worse-column",
   "metadata": {},
   "source": [
    "Большие задержки на проектах Database, Portal (руководитель), Web, Report (стажеры, а после их увольнения - основной персонал)"
   ]
  },
  {
   "cell_type": "code",
   "execution_count": 12,
   "id": "southern-rhythm",
   "metadata": {},
   "outputs": [
    {
     "data": {
      "text/plain": [
       "<AxesSubplot:ylabel='source_task,staff'>"
      ]
     },
     "execution_count": 12,
     "metadata": {},
     "output_type": "execute_result"
    },
    {
     "data": {
      "image/png": "[encoded data removed]",
      "text/plain": [
       "<Figure size 432x288 with 1 Axes>"
      ]
     },
     "metadata": {
      "needs_background": "light"
     },
     "output_type": "display_data"
    }
   ],
   "source": [
    "# Среднее время проектов по состояниям и исполнителям\n",
    "df_fullJira.groupby([\"source_task\",\"staff\"]).mean().plot(kind = \"barh\", stacked = True, sort_columns = True)"
   ]
  },
  {
   "cell_type": "markdown",
   "id": "lesbian-walter",
   "metadata": {},
   "source": [
    "Проекты Report резко увеличивают время простоя после увольнения стажеров.\n",
    "У руководителя вообще проекты очень много простаивают"
   ]
  },
  {
   "cell_type": "code",
   "execution_count": 13,
   "id": "dangerous-afternoon",
   "metadata": {},
   "outputs": [
    {
     "data": {
      "text/html": [
       "<div>\n",
       "<style scoped>\n",
       "    .dataframe tbody tr th:only-of-type {\n",
       "        vertical-align: middle;\n",
       "    }\n",
       "\n",
       "    .dataframe tbody tr th {\n",
       "        vertical-align: top;\n",
       "    }\n",
       "\n",
       "    .dataframe thead th {\n",
       "        text-align: right;\n",
       "    }\n",
       "</style>\n",
       "<table border=\"1\" class=\"dataframe\">\n",
       "  <thead>\n",
       "    <tr style=\"text-align: right;\">\n",
       "      <th></th>\n",
       "      <th></th>\n",
       "      <th>queue_time</th>\n",
       "      <th>wip_time</th>\n",
       "      <th>prm_time</th>\n",
       "    </tr>\n",
       "    <tr>\n",
       "      <th>staff</th>\n",
       "      <th>source_task</th>\n",
       "      <th></th>\n",
       "      <th></th>\n",
       "      <th></th>\n",
       "    </tr>\n",
       "  </thead>\n",
       "  <tbody>\n",
       "    <tr>\n",
       "      <th rowspan=\"7\" valign=\"top\">developer</th>\n",
       "      <th>JIRA_Database</th>\n",
       "      <td>312.479167</td>\n",
       "      <td>148.769418</td>\n",
       "      <td>0.881167</td>\n",
       "    </tr>\n",
       "    <tr>\n",
       "      <th>JIRA_Infrastructure</th>\n",
       "      <td>482.479500</td>\n",
       "      <td>1254.379510</td>\n",
       "      <td>8.698333</td>\n",
       "    </tr>\n",
       "    <tr>\n",
       "      <th>JIRA_Portal</th>\n",
       "      <td>218.182833</td>\n",
       "      <td>68.154666</td>\n",
       "      <td>0.812833</td>\n",
       "    </tr>\n",
       "    <tr>\n",
       "      <th>JIRA_Web</th>\n",
       "      <td>210.583500</td>\n",
       "      <td>153.989323</td>\n",
       "      <td>1.871000</td>\n",
       "    </tr>\n",
       "    <tr>\n",
       "      <th>SCSM_ServiceAdmin</th>\n",
       "      <td>0.121500</td>\n",
       "      <td>4.128918</td>\n",
       "      <td>0.000000</td>\n",
       "    </tr>\n",
       "    <tr>\n",
       "      <th>SCSM_ServiceNonAdmin</th>\n",
       "      <td>3.819667</td>\n",
       "      <td>3.973732</td>\n",
       "      <td>0.000000</td>\n",
       "    </tr>\n",
       "    <tr>\n",
       "      <th>SCSM_Web</th>\n",
       "      <td>0.275667</td>\n",
       "      <td>17.126830</td>\n",
       "      <td>0.000000</td>\n",
       "    </tr>\n",
       "    <tr>\n",
       "      <th rowspan=\"5\" valign=\"top\">interns</th>\n",
       "      <th>JIRA_Report</th>\n",
       "      <td>668.481500</td>\n",
       "      <td>607.414608</td>\n",
       "      <td>69.732667</td>\n",
       "    </tr>\n",
       "    <tr>\n",
       "      <th>JIRA_Web</th>\n",
       "      <td>1648.070667</td>\n",
       "      <td>1052.556230</td>\n",
       "      <td>72.917333</td>\n",
       "    </tr>\n",
       "    <tr>\n",
       "      <th>SCSM_Report</th>\n",
       "      <td>2.837833</td>\n",
       "      <td>43.933835</td>\n",
       "      <td>0.000000</td>\n",
       "    </tr>\n",
       "    <tr>\n",
       "      <th>SCSM_ServiceNonAdmin</th>\n",
       "      <td>103.274167</td>\n",
       "      <td>51.826903</td>\n",
       "      <td>0.000000</td>\n",
       "    </tr>\n",
       "    <tr>\n",
       "      <th>SCSM_Web</th>\n",
       "      <td>1.314000</td>\n",
       "      <td>25.291748</td>\n",
       "      <td>0.000000</td>\n",
       "    </tr>\n",
       "    <tr>\n",
       "      <th rowspan=\"8\" valign=\"top\">manager</th>\n",
       "      <th>JIRA_Database</th>\n",
       "      <td>1043.016833</td>\n",
       "      <td>658.648303</td>\n",
       "      <td>173.955000</td>\n",
       "    </tr>\n",
       "    <tr>\n",
       "      <th>JIRA_Portal</th>\n",
       "      <td>2257.882333</td>\n",
       "      <td>699.328597</td>\n",
       "      <td>217.010500</td>\n",
       "    </tr>\n",
       "    <tr>\n",
       "      <th>JIRA_Report</th>\n",
       "      <td>101.602833</td>\n",
       "      <td>9.405780</td>\n",
       "      <td>3.144167</td>\n",
       "    </tr>\n",
       "    <tr>\n",
       "      <th>JIRA_Web</th>\n",
       "      <td>57.699000</td>\n",
       "      <td>40.272736</td>\n",
       "      <td>16.561333</td>\n",
       "    </tr>\n",
       "    <tr>\n",
       "      <th>Meetings</th>\n",
       "      <td>0.000000</td>\n",
       "      <td>381.861355</td>\n",
       "      <td>0.000000</td>\n",
       "    </tr>\n",
       "    <tr>\n",
       "      <th>SCSM_Report</th>\n",
       "      <td>0.864333</td>\n",
       "      <td>21.668774</td>\n",
       "      <td>4.180333</td>\n",
       "    </tr>\n",
       "    <tr>\n",
       "      <th>SCSM_ServiceAdmin</th>\n",
       "      <td>19.942000</td>\n",
       "      <td>9.517029</td>\n",
       "      <td>1.137000</td>\n",
       "    </tr>\n",
       "    <tr>\n",
       "      <th>SCSM_ServiceNonAdmin</th>\n",
       "      <td>35.033000</td>\n",
       "      <td>9.223123</td>\n",
       "      <td>1.535833</td>\n",
       "    </tr>\n",
       "  </tbody>\n",
       "</table>\n",
       "</div>"
      ],
      "text/plain": [
       "                                 queue_time     wip_time    prm_time\n",
       "staff     source_task                                               \n",
       "developer JIRA_Database          312.479167   148.769418    0.881167\n",
       "          JIRA_Infrastructure    482.479500  1254.379510    8.698333\n",
       "          JIRA_Portal            218.182833    68.154666    0.812833\n",
       "          JIRA_Web               210.583500   153.989323    1.871000\n",
       "          SCSM_ServiceAdmin        0.121500     4.128918    0.000000\n",
       "          SCSM_ServiceNonAdmin     3.819667     3.973732    0.000000\n",
       "          SCSM_Web                 0.275667    17.126830    0.000000\n",
       "interns   JIRA_Report            668.481500   607.414608   69.732667\n",
       "          JIRA_Web              1648.070667  1052.556230   72.917333\n",
       "          SCSM_Report              2.837833    43.933835    0.000000\n",
       "          SCSM_ServiceNonAdmin   103.274167    51.826903    0.000000\n",
       "          SCSM_Web                 1.314000    25.291748    0.000000\n",
       "manager   JIRA_Database         1043.016833   658.648303  173.955000\n",
       "          JIRA_Portal           2257.882333   699.328597  217.010500\n",
       "          JIRA_Report            101.602833     9.405780    3.144167\n",
       "          JIRA_Web                57.699000    40.272736   16.561333\n",
       "          Meetings                 0.000000   381.861355    0.000000\n",
       "          SCSM_Report              0.864333    21.668774    4.180333\n",
       "          SCSM_ServiceAdmin       19.942000     9.517029    1.137000\n",
       "          SCSM_ServiceNonAdmin    35.033000     9.223123    1.535833"
      ]
     },
     "execution_count": 13,
     "metadata": {},
     "output_type": "execute_result"
    }
   ],
   "source": [
    "#Среднее время проекта за итерацию по состояниям и исполнителям\n",
    "df_full.groupby([\"staff\",\"source_task\"]).sum()/nIterations"
   ]
  },
  {
   "cell_type": "code",
   "execution_count": 14,
   "id": "multiple-technology",
   "metadata": {},
   "outputs": [
    {
     "data": {
      "text/plain": [
       "<AxesSubplot:ylabel='staff,source_task'>"
      ]
     },
     "execution_count": 14,
     "metadata": {},
     "output_type": "execute_result"
    },
    {
     "data": {
      "image/png": "[encoded data removed]",
      "text/plain": [
       "<Figure size 432x288 with 1 Axes>"
      ]
     },
     "metadata": {
      "needs_background": "light"
     },
     "output_type": "display_data"
    }
   ],
   "source": [
    "avgIteration = df_fullJira.groupby([\"staff\",\"source_task\"]).sum()/nIterations\n",
    "avgIteration.plot(kind = \"barh\", stacked = True, sort_columns = True)"
   ]
  },
  {
   "cell_type": "code",
   "execution_count": 38,
   "id": "silver-refrigerator",
   "metadata": {},
   "outputs": [
    {
     "data": {
      "text/html": [
       "<div>\n",
       "<style scoped>\n",
       "    .dataframe tbody tr th:only-of-type {\n",
       "        vertical-align: middle;\n",
       "    }\n",
       "\n",
       "    .dataframe tbody tr th {\n",
       "        vertical-align: top;\n",
       "    }\n",
       "\n",
       "    .dataframe thead th {\n",
       "        text-align: right;\n",
       "    }\n",
       "</style>\n",
       "<table border=\"1\" class=\"dataframe\">\n",
       "  <thead>\n",
       "    <tr style=\"text-align: right;\">\n",
       "      <th></th>\n",
       "      <th></th>\n",
       "      <th>queue_time</th>\n",
       "      <th>wip_time</th>\n",
       "      <th>prm_time</th>\n",
       "    </tr>\n",
       "    <tr>\n",
       "      <th>staff</th>\n",
       "      <th>source_task</th>\n",
       "      <th></th>\n",
       "      <th></th>\n",
       "      <th></th>\n",
       "    </tr>\n",
       "  </thead>\n",
       "  <tbody>\n",
       "    <tr>\n",
       "      <th rowspan=\"7\" valign=\"top\">developer</th>\n",
       "      <th>JIRA_Database</th>\n",
       "      <td>0.73</td>\n",
       "      <td>0.73</td>\n",
       "      <td>0.73</td>\n",
       "    </tr>\n",
       "    <tr>\n",
       "      <th>JIRA_Infrastructure</th>\n",
       "      <td>2.35</td>\n",
       "      <td>2.35</td>\n",
       "      <td>2.35</td>\n",
       "    </tr>\n",
       "    <tr>\n",
       "      <th>JIRA_Portal</th>\n",
       "      <td>0.55</td>\n",
       "      <td>0.55</td>\n",
       "      <td>0.55</td>\n",
       "    </tr>\n",
       "    <tr>\n",
       "      <th>JIRA_Web</th>\n",
       "      <td>1.77</td>\n",
       "      <td>1.77</td>\n",
       "      <td>1.77</td>\n",
       "    </tr>\n",
       "    <tr>\n",
       "      <th>SCSM_ServiceAdmin</th>\n",
       "      <td>5.10</td>\n",
       "      <td>5.10</td>\n",
       "      <td>5.10</td>\n",
       "    </tr>\n",
       "    <tr>\n",
       "      <th>SCSM_ServiceNonAdmin</th>\n",
       "      <td>22.85</td>\n",
       "      <td>22.85</td>\n",
       "      <td>22.85</td>\n",
       "    </tr>\n",
       "    <tr>\n",
       "      <th>SCSM_Web</th>\n",
       "      <td>6.88</td>\n",
       "      <td>6.88</td>\n",
       "      <td>6.88</td>\n",
       "    </tr>\n",
       "    <tr>\n",
       "      <th rowspan=\"5\" valign=\"top\">interns</th>\n",
       "      <th>JIRA_Report</th>\n",
       "      <td>9.74</td>\n",
       "      <td>9.74</td>\n",
       "      <td>9.74</td>\n",
       "    </tr>\n",
       "    <tr>\n",
       "      <th>JIRA_Web</th>\n",
       "      <td>11.97</td>\n",
       "      <td>11.97</td>\n",
       "      <td>11.97</td>\n",
       "    </tr>\n",
       "    <tr>\n",
       "      <th>SCSM_Report</th>\n",
       "      <td>14.72</td>\n",
       "      <td>14.72</td>\n",
       "      <td>14.72</td>\n",
       "    </tr>\n",
       "    <tr>\n",
       "      <th>SCSM_ServiceNonAdmin</th>\n",
       "      <td>298.96</td>\n",
       "      <td>298.96</td>\n",
       "      <td>298.96</td>\n",
       "    </tr>\n",
       "    <tr>\n",
       "      <th>SCSM_Web</th>\n",
       "      <td>10.12</td>\n",
       "      <td>10.12</td>\n",
       "      <td>10.12</td>\n",
       "    </tr>\n",
       "    <tr>\n",
       "      <th rowspan=\"8\" valign=\"top\">manager</th>\n",
       "      <th>JIRA_Database</th>\n",
       "      <td>3.23</td>\n",
       "      <td>3.23</td>\n",
       "      <td>3.23</td>\n",
       "    </tr>\n",
       "    <tr>\n",
       "      <th>JIRA_Portal</th>\n",
       "      <td>5.49</td>\n",
       "      <td>5.49</td>\n",
       "      <td>5.49</td>\n",
       "    </tr>\n",
       "    <tr>\n",
       "      <th>JIRA_Report</th>\n",
       "      <td>0.17</td>\n",
       "      <td>0.17</td>\n",
       "      <td>0.17</td>\n",
       "    </tr>\n",
       "    <tr>\n",
       "      <th>JIRA_Web</th>\n",
       "      <td>0.51</td>\n",
       "      <td>0.51</td>\n",
       "      <td>0.51</td>\n",
       "    </tr>\n",
       "    <tr>\n",
       "      <th>Meetings</th>\n",
       "      <td>254.00</td>\n",
       "      <td>254.00</td>\n",
       "      <td>254.00</td>\n",
       "    </tr>\n",
       "    <tr>\n",
       "      <th>SCSM_Report</th>\n",
       "      <td>7.28</td>\n",
       "      <td>7.28</td>\n",
       "      <td>7.28</td>\n",
       "    </tr>\n",
       "    <tr>\n",
       "      <th>SCSM_ServiceAdmin</th>\n",
       "      <td>11.90</td>\n",
       "      <td>11.90</td>\n",
       "      <td>11.90</td>\n",
       "    </tr>\n",
       "    <tr>\n",
       "      <th>SCSM_ServiceNonAdmin</th>\n",
       "      <td>53.19</td>\n",
       "      <td>53.19</td>\n",
       "      <td>53.19</td>\n",
       "    </tr>\n",
       "  </tbody>\n",
       "</table>\n",
       "</div>"
      ],
      "text/plain": [
       "                                queue_time  wip_time  prm_time\n",
       "staff     source_task                                         \n",
       "developer JIRA_Database               0.73      0.73      0.73\n",
       "          JIRA_Infrastructure         2.35      2.35      2.35\n",
       "          JIRA_Portal                 0.55      0.55      0.55\n",
       "          JIRA_Web                    1.77      1.77      1.77\n",
       "          SCSM_ServiceAdmin           5.10      5.10      5.10\n",
       "          SCSM_ServiceNonAdmin       22.85     22.85     22.85\n",
       "          SCSM_Web                    6.88      6.88      6.88\n",
       "interns   JIRA_Report                 9.74      9.74      9.74\n",
       "          JIRA_Web                   11.97     11.97     11.97\n",
       "          SCSM_Report                14.72     14.72     14.72\n",
       "          SCSM_ServiceNonAdmin      298.96    298.96    298.96\n",
       "          SCSM_Web                   10.12     10.12     10.12\n",
       "manager   JIRA_Database               3.23      3.23      3.23\n",
       "          JIRA_Portal                 5.49      5.49      5.49\n",
       "          JIRA_Report                 0.17      0.17      0.17\n",
       "          JIRA_Web                    0.51      0.51      0.51\n",
       "          Meetings                  254.00    254.00    254.00\n",
       "          SCSM_Report                 7.28      7.28      7.28\n",
       "          SCSM_ServiceAdmin          11.90     11.90     11.90\n",
       "          SCSM_ServiceNonAdmin       53.19     53.19     53.19"
      ]
     },
     "execution_count": 38,
     "metadata": {},
     "output_type": "execute_result"
    }
   ],
   "source": [
    "# Количество выполненных задач в среднем за итерацию\n",
    "df_full.groupby([\"staff\",\"source_task\"]).count()/nIterations"
   ]
  },
  {
   "cell_type": "code",
   "execution_count": 16,
   "id": "entitled-development",
   "metadata": {},
   "outputs": [
    {
     "data": {
      "text/html": [
       "<div>\n",
       "<style scoped>\n",
       "    .dataframe tbody tr th:only-of-type {\n",
       "        vertical-align: middle;\n",
       "    }\n",
       "\n",
       "    .dataframe tbody tr th {\n",
       "        vertical-align: top;\n",
       "    }\n",
       "\n",
       "    .dataframe thead th {\n",
       "        text-align: right;\n",
       "    }\n",
       "</style>\n",
       "<table border=\"1\" class=\"dataframe\">\n",
       "  <thead>\n",
       "    <tr style=\"text-align: right;\">\n",
       "      <th></th>\n",
       "      <th></th>\n",
       "      <th>queue_time</th>\n",
       "      <th>wip_time</th>\n",
       "      <th>prm_time</th>\n",
       "    </tr>\n",
       "    <tr>\n",
       "      <th>source_task</th>\n",
       "      <th>staff</th>\n",
       "      <th></th>\n",
       "      <th></th>\n",
       "      <th></th>\n",
       "    </tr>\n",
       "  </thead>\n",
       "  <tbody>\n",
       "    <tr>\n",
       "      <th rowspan=\"2\" valign=\"top\">JIRA_Database</th>\n",
       "      <th>developer</th>\n",
       "      <td>428.053653</td>\n",
       "      <td>203.793724</td>\n",
       "      <td>1.207078</td>\n",
       "    </tr>\n",
       "    <tr>\n",
       "      <th>manager</th>\n",
       "      <td>322.915428</td>\n",
       "      <td>203.915883</td>\n",
       "      <td>53.856037</td>\n",
       "    </tr>\n",
       "    <tr>\n",
       "      <th>JIRA_Infrastructure</th>\n",
       "      <th>developer</th>\n",
       "      <td>205.310426</td>\n",
       "      <td>533.778515</td>\n",
       "      <td>3.701418</td>\n",
       "    </tr>\n",
       "    <tr>\n",
       "      <th rowspan=\"2\" valign=\"top\">JIRA_Portal</th>\n",
       "      <th>developer</th>\n",
       "      <td>396.696061</td>\n",
       "      <td>123.917574</td>\n",
       "      <td>1.477879</td>\n",
       "    </tr>\n",
       "    <tr>\n",
       "      <th>manager</th>\n",
       "      <td>411.271828</td>\n",
       "      <td>127.382258</td>\n",
       "      <td>39.528324</td>\n",
       "    </tr>\n",
       "    <tr>\n",
       "      <th rowspan=\"2\" valign=\"top\">JIRA_Report</th>\n",
       "      <th>interns</th>\n",
       "      <td>68.632598</td>\n",
       "      <td>62.362896</td>\n",
       "      <td>7.159411</td>\n",
       "    </tr>\n",
       "    <tr>\n",
       "      <th>manager</th>\n",
       "      <td>597.663725</td>\n",
       "      <td>55.328115</td>\n",
       "      <td>18.495098</td>\n",
       "    </tr>\n",
       "    <tr>\n",
       "      <th rowspan=\"3\" valign=\"top\">JIRA_Web</th>\n",
       "      <th>developer</th>\n",
       "      <td>118.973729</td>\n",
       "      <td>86.999618</td>\n",
       "      <td>1.057062</td>\n",
       "    </tr>\n",
       "    <tr>\n",
       "      <th>interns</th>\n",
       "      <td>137.683431</td>\n",
       "      <td>87.932851</td>\n",
       "      <td>6.091674</td>\n",
       "    </tr>\n",
       "    <tr>\n",
       "      <th>manager</th>\n",
       "      <td>113.135294</td>\n",
       "      <td>78.966149</td>\n",
       "      <td>32.473203</td>\n",
       "    </tr>\n",
       "  </tbody>\n",
       "</table>\n",
       "</div>"
      ],
      "text/plain": [
       "                               queue_time    wip_time   prm_time\n",
       "source_task         staff                                       \n",
       "JIRA_Database       developer  428.053653  203.793724   1.207078\n",
       "                    manager    322.915428  203.915883  53.856037\n",
       "JIRA_Infrastructure developer  205.310426  533.778515   3.701418\n",
       "JIRA_Portal         developer  396.696061  123.917574   1.477879\n",
       "                    manager    411.271828  127.382258  39.528324\n",
       "JIRA_Report         interns     68.632598   62.362896   7.159411\n",
       "                    manager    597.663725   55.328115  18.495098\n",
       "JIRA_Web            developer  118.973729   86.999618   1.057062\n",
       "                    interns    137.683431   87.932851   6.091674\n",
       "                    manager    113.135294   78.966149  32.473203"
      ]
     },
     "execution_count": 16,
     "metadata": {},
     "output_type": "execute_result"
    }
   ],
   "source": [
    "df_fullJira.groupby([\"source_task\",\"staff\"]).mean()"
   ]
  },
  {
   "cell_type": "code",
   "execution_count": 17,
   "id": "senior-jewelry",
   "metadata": {},
   "outputs": [
    {
     "data": {
      "text/html": [
       "<div>\n",
       "<style scoped>\n",
       "    .dataframe tbody tr th:only-of-type {\n",
       "        vertical-align: middle;\n",
       "    }\n",
       "\n",
       "    .dataframe tbody tr th {\n",
       "        vertical-align: top;\n",
       "    }\n",
       "\n",
       "    .dataframe thead th {\n",
       "        text-align: right;\n",
       "    }\n",
       "</style>\n",
       "<table border=\"1\" class=\"dataframe\">\n",
       "  <thead>\n",
       "    <tr style=\"text-align: right;\">\n",
       "      <th></th>\n",
       "      <th></th>\n",
       "      <th>queue_time</th>\n",
       "      <th>wip_time</th>\n",
       "      <th>prm_time</th>\n",
       "    </tr>\n",
       "    <tr>\n",
       "      <th>source_task</th>\n",
       "      <th>staff</th>\n",
       "      <th></th>\n",
       "      <th></th>\n",
       "      <th></th>\n",
       "    </tr>\n",
       "  </thead>\n",
       "  <tbody>\n",
       "    <tr>\n",
       "      <th rowspan=\"2\" valign=\"top\">JIRA_Database</th>\n",
       "      <th>developer</th>\n",
       "      <td>287.174765</td>\n",
       "      <td>42.255121</td>\n",
       "      <td>3.308236</td>\n",
       "    </tr>\n",
       "    <tr>\n",
       "      <th>manager</th>\n",
       "      <td>190.879410</td>\n",
       "      <td>40.994346</td>\n",
       "      <td>15.341228</td>\n",
       "    </tr>\n",
       "    <tr>\n",
       "      <th>JIRA_Infrastructure</th>\n",
       "      <th>developer</th>\n",
       "      <td>148.816540</td>\n",
       "      <td>151.969790</td>\n",
       "      <td>6.143381</td>\n",
       "    </tr>\n",
       "    <tr>\n",
       "      <th rowspan=\"2\" valign=\"top\">JIRA_Portal</th>\n",
       "      <th>developer</th>\n",
       "      <td>300.647281</td>\n",
       "      <td>40.123717</td>\n",
       "      <td>2.500492</td>\n",
       "    </tr>\n",
       "    <tr>\n",
       "      <th>manager</th>\n",
       "      <td>240.049375</td>\n",
       "      <td>39.271181</td>\n",
       "      <td>15.882336</td>\n",
       "    </tr>\n",
       "    <tr>\n",
       "      <th rowspan=\"2\" valign=\"top\">JIRA_Report</th>\n",
       "      <th>interns</th>\n",
       "      <td>61.176478</td>\n",
       "      <td>14.995856</td>\n",
       "      <td>14.398539</td>\n",
       "    </tr>\n",
       "    <tr>\n",
       "      <th>manager</th>\n",
       "      <td>244.889018</td>\n",
       "      <td>15.231753</td>\n",
       "      <td>9.875367</td>\n",
       "    </tr>\n",
       "    <tr>\n",
       "      <th rowspan=\"3\" valign=\"top\">JIRA_Web</th>\n",
       "      <th>developer</th>\n",
       "      <td>236.552911</td>\n",
       "      <td>42.140006</td>\n",
       "      <td>2.000984</td>\n",
       "    </tr>\n",
       "    <tr>\n",
       "      <th>interns</th>\n",
       "      <td>167.872130</td>\n",
       "      <td>39.771423</td>\n",
       "      <td>8.237983</td>\n",
       "    </tr>\n",
       "    <tr>\n",
       "      <th>manager</th>\n",
       "      <td>242.809074</td>\n",
       "      <td>36.596747</td>\n",
       "      <td>12.946444</td>\n",
       "    </tr>\n",
       "  </tbody>\n",
       "</table>\n",
       "</div>"
      ],
      "text/plain": [
       "                               queue_time    wip_time   prm_time\n",
       "source_task         staff                                       \n",
       "JIRA_Database       developer  287.174765   42.255121   3.308236\n",
       "                    manager    190.879410   40.994346  15.341228\n",
       "JIRA_Infrastructure developer  148.816540  151.969790   6.143381\n",
       "JIRA_Portal         developer  300.647281   40.123717   2.500492\n",
       "                    manager    240.049375   39.271181  15.882336\n",
       "JIRA_Report         interns     61.176478   14.995856  14.398539\n",
       "                    manager    244.889018   15.231753   9.875367\n",
       "JIRA_Web            developer  236.552911   42.140006   2.000984\n",
       "                    interns    167.872130   39.771423   8.237983\n",
       "                    manager    242.809074   36.596747  12.946444"
      ]
     },
     "execution_count": 17,
     "metadata": {},
     "output_type": "execute_result"
    }
   ],
   "source": [
    "df_fullJira.groupby([\"source_task\",\"staff\"]).std()"
   ]
  },
  {
   "cell_type": "code",
   "execution_count": 18,
   "id": "collect-bishop",
   "metadata": {
    "scrolled": true
   },
   "outputs": [
    {
     "name": "stderr",
     "output_type": "stream",
     "text": [
      "D:\\Anaconda3\\lib\\site-packages\\pandas\\plotting\\_matplotlib\\tools.py:400: MatplotlibDeprecationWarning: \n",
      "The is_first_col function was deprecated in Matplotlib 3.4 and will be removed two minor releases later. Use ax.get_subplotspec().is_first_col() instead.\n",
      "  if ax.is_first_col():\n"
     ]
    },
    {
     "data": {
      "text/plain": [
       "developer         AxesSubplot(0.1,0.559091;0.363636x0.340909)\n",
       "interns      AxesSubplot(0.536364,0.559091;0.363636x0.340909)\n",
       "manager               AxesSubplot(0.1,0.15;0.363636x0.340909)\n",
       "dtype: object"
      ]
     },
     "execution_count": 18,
     "metadata": {},
     "output_type": "execute_result"
    },
    {
     "data": {
      "image/png": "[encoded data removed]",
      "text/plain": [
       "<Figure size 576x1080 with 4 Axes>"
      ]
     },
     "metadata": {
      "needs_background": "light"
     },
     "output_type": "display_data"
    }
   ],
   "source": [
    "# Разброс простоя в очереди по проектам и исполнителям\n",
    "df_fullJira.groupby(\"staff\").boxplot(by=\"source_task\",column=\"queue_time\",grid=True, rot=45, fontsize=10,figsize=(8,15))"
   ]
  },
  {
   "cell_type": "markdown",
   "id": "generous-persian",
   "metadata": {},
   "source": [
    "### Датасеты содержат данные о количестве оставшегося рабочего времени для незавершенных задач на конец моделирования"
   ]
  },
  {
   "cell_type": "code",
   "execution_count": 19,
   "id": "level-composite",
   "metadata": {},
   "outputs": [],
   "source": [
    "managerDFeop = pd.read_excel(\"D:/YandexDisk/ВКР/Model/VKR/main_final_v2/manager_eop.xlsx\")\n",
    "developerDFeop = pd.read_excel(\"D:/YandexDisk/ВКР/Model/VKR/main_final_v2/developer_eop.xlsx\")"
   ]
  },
  {
   "cell_type": "code",
   "execution_count": 20,
   "id": "impressed-cricket",
   "metadata": {},
   "outputs": [],
   "source": [
    "managerDFeop[\"source_task\"] = managerDFeop[\"source_id\"].map(labelsDict)\n",
    "managerDFeop[\"staff\"] = \"manager\"\n",
    "developerDFeop[\"source_task\"] = developerDFeop[\"source_id\"].map(labelsDict)\n",
    "developerDFeop[\"staff\"] = \"developer\""
   ]
  },
  {
   "cell_type": "code",
   "execution_count": 21,
   "id": "boring-emission",
   "metadata": {},
   "outputs": [
    {
     "data": {
      "text/html": [
       "<div>\n",
       "<style scoped>\n",
       "    .dataframe tbody tr th:only-of-type {\n",
       "        vertical-align: middle;\n",
       "    }\n",
       "\n",
       "    .dataframe tbody tr th {\n",
       "        vertical-align: top;\n",
       "    }\n",
       "\n",
       "    .dataframe thead th {\n",
       "        text-align: right;\n",
       "    }\n",
       "</style>\n",
       "<table border=\"1\" class=\"dataframe\">\n",
       "  <thead>\n",
       "    <tr style=\"text-align: right;\">\n",
       "      <th></th>\n",
       "      <th>eop_time</th>\n",
       "      <th>staff</th>\n",
       "    </tr>\n",
       "    <tr>\n",
       "      <th>source_task</th>\n",
       "      <th></th>\n",
       "      <th></th>\n",
       "    </tr>\n",
       "  </thead>\n",
       "  <tbody>\n",
       "    <tr>\n",
       "      <th>JIRA_Database</th>\n",
       "      <td>2.04</td>\n",
       "      <td>2.04</td>\n",
       "    </tr>\n",
       "    <tr>\n",
       "      <th>JIRA_Infrastructure</th>\n",
       "      <td>2.65</td>\n",
       "      <td>2.65</td>\n",
       "    </tr>\n",
       "    <tr>\n",
       "      <th>JIRA_Portal</th>\n",
       "      <td>8.96</td>\n",
       "      <td>8.96</td>\n",
       "    </tr>\n",
       "    <tr>\n",
       "      <th>JIRA_Report</th>\n",
       "      <td>3.09</td>\n",
       "      <td>3.09</td>\n",
       "    </tr>\n",
       "    <tr>\n",
       "      <th>JIRA_Web</th>\n",
       "      <td>6.75</td>\n",
       "      <td>6.75</td>\n",
       "    </tr>\n",
       "  </tbody>\n",
       "</table>\n",
       "</div>"
      ],
      "text/plain": [
       "                     eop_time  staff\n",
       "source_task                         \n",
       "JIRA_Database            2.04   2.04\n",
       "JIRA_Infrastructure      2.65   2.65\n",
       "JIRA_Portal              8.96   8.96\n",
       "JIRA_Report              3.09   3.09\n",
       "JIRA_Web                 6.75   6.75"
      ]
     },
     "execution_count": 21,
     "metadata": {},
     "output_type": "execute_result"
    }
   ],
   "source": [
    "unitedEop = pd.concat([managerDFeop,developerDFeop], ignore_index = True)\n",
    "unitedEop = unitedEop.drop(columns = [\"source_id\"])\n",
    "unitedEop.groupby([\"source_task\"]).count()/nIterations"
   ]
  },
  {
   "cell_type": "code",
   "execution_count": 51,
   "id": "brave-giant",
   "metadata": {},
   "outputs": [
    {
     "data": {
      "text/plain": [
       "<AxesSubplot:ylabel='source_task'>"
      ]
     },
     "execution_count": 51,
     "metadata": {},
     "output_type": "execute_result"
    },
    {
     "data": {
      "image/png": "[encoded data removed]",
      "text/plain": [
       "<Figure size 432x288 with 1 Axes>"
      ]
     },
     "metadata": {
      "needs_background": "light"
     },
     "output_type": "display_data"
    }
   ],
   "source": [
    "unEopMean = unitedEop.groupby(\"source_task\").sum()/nIterations\n",
    "unEopMean.plot(kind = \"barh\")"
   ]
  },
  {
   "cell_type": "code",
   "execution_count": 52,
   "id": "involved-launch",
   "metadata": {},
   "outputs": [
    {
     "data": {
      "text/plain": [
       "<AxesSubplot:ylabel='staff,source_task'>"
      ]
     },
     "execution_count": 52,
     "metadata": {},
     "output_type": "execute_result"
    },
    {
     "data": {
      "image/png": "[encoded data removed]",
      "text/plain": [
       "<Figure size 432x288 with 1 Axes>"
      ]
     },
     "metadata": {
      "needs_background": "light"
     },
     "output_type": "display_data"
    }
   ],
   "source": [
    "unEopMean = unitedEop.groupby([\"staff\",\"source_task\"]).sum()/nIterations\n",
    "unEopMean.plot(kind = \"barh\")"
   ]
  },
  {
   "cell_type": "markdown",
   "id": "computational-allen",
   "metadata": {},
   "source": [
    "Insfrastructure по-умолчанию длительные проекты. Осталось много Web и Portal"
   ]
  },
  {
   "cell_type": "markdown",
   "id": "postal-economics",
   "metadata": {},
   "source": [
    "### Датасет содержит количество незавершенных задач для каждой итерации"
   ]
  },
  {
   "cell_type": "code",
   "execution_count": 40,
   "id": "unnecessary-camera",
   "metadata": {},
   "outputs": [],
   "source": [
    "nis = pd.read_excel(\"D:/YandexDisk/ВКР/Model/VKR/main_final_v2/nis.xlsx\")"
   ]
  },
  {
   "cell_type": "code",
   "execution_count": 41,
   "id": "hollow-violence",
   "metadata": {},
   "outputs": [
    {
     "data": {
      "text/html": [
       "<div>\n",
       "<style scoped>\n",
       "    .dataframe tbody tr th:only-of-type {\n",
       "        vertical-align: middle;\n",
       "    }\n",
       "\n",
       "    .dataframe tbody tr th {\n",
       "        vertical-align: top;\n",
       "    }\n",
       "\n",
       "    .dataframe thead th {\n",
       "        text-align: right;\n",
       "    }\n",
       "</style>\n",
       "<table border=\"1\" class=\"dataframe\">\n",
       "  <thead>\n",
       "    <tr style=\"text-align: right;\">\n",
       "      <th></th>\n",
       "      <th>nis_count</th>\n",
       "    </tr>\n",
       "  </thead>\n",
       "  <tbody>\n",
       "    <tr>\n",
       "      <th>0</th>\n",
       "      <td>21</td>\n",
       "    </tr>\n",
       "    <tr>\n",
       "      <th>1</th>\n",
       "      <td>26</td>\n",
       "    </tr>\n",
       "    <tr>\n",
       "      <th>2</th>\n",
       "      <td>26</td>\n",
       "    </tr>\n",
       "    <tr>\n",
       "      <th>3</th>\n",
       "      <td>23</td>\n",
       "    </tr>\n",
       "    <tr>\n",
       "      <th>4</th>\n",
       "      <td>27</td>\n",
       "    </tr>\n",
       "    <tr>\n",
       "      <th>...</th>\n",
       "      <td>...</td>\n",
       "    </tr>\n",
       "    <tr>\n",
       "      <th>95</th>\n",
       "      <td>33</td>\n",
       "    </tr>\n",
       "    <tr>\n",
       "      <th>96</th>\n",
       "      <td>26</td>\n",
       "    </tr>\n",
       "    <tr>\n",
       "      <th>97</th>\n",
       "      <td>22</td>\n",
       "    </tr>\n",
       "    <tr>\n",
       "      <th>98</th>\n",
       "      <td>23</td>\n",
       "    </tr>\n",
       "    <tr>\n",
       "      <th>99</th>\n",
       "      <td>18</td>\n",
       "    </tr>\n",
       "  </tbody>\n",
       "</table>\n",
       "<p>100 rows × 1 columns</p>\n",
       "</div>"
      ],
      "text/plain": [
       "    nis_count\n",
       "0          21\n",
       "1          26\n",
       "2          26\n",
       "3          23\n",
       "4          27\n",
       "..        ...\n",
       "95         33\n",
       "96         26\n",
       "97         22\n",
       "98         23\n",
       "99         18\n",
       "\n",
       "[100 rows x 1 columns]"
      ]
     },
     "execution_count": 41,
     "metadata": {},
     "output_type": "execute_result"
    }
   ],
   "source": [
    "nis"
   ]
  },
  {
   "attachments": {
    "graph.png": {
     "image/png": "[encoded data removed]"
    }
   },
   "cell_type": "markdown",
   "id": "martial-halifax",
   "metadata": {},
   "source": [
    "На графике эксперимента заметен непрерывный рост числа задач. Система нестабильна\n",
    "\n",
    "![graph.png](attachment:graph.png)"
   ]
  },
  {
   "cell_type": "code",
   "execution_count": 42,
   "id": "perfect-puzzle",
   "metadata": {},
   "outputs": [
    {
     "data": {
      "text/plain": [
       "<AxesSubplot:ylabel='Frequency'>"
      ]
     },
     "execution_count": 42,
     "metadata": {},
     "output_type": "execute_result"
    },
    {
     "data": {
      "image/png": "[encoded data removed]",
      "text/plain": [
       "<Figure size 432x288 with 1 Axes>"
      ]
     },
     "metadata": {
      "needs_background": "light"
     },
     "output_type": "display_data"
    }
   ],
   "source": [
    "nis.plot(kind = \"hist\")"
   ]
  },
  {
   "cell_type": "markdown",
   "id": "theoretical-connectivity",
   "metadata": {},
   "source": [
    "Возможность досрочного ухода стажеров искажает гистограмму, что делает процессы нестабильными к ожиданию задач"
   ]
  },
  {
   "cell_type": "code",
   "execution_count": 43,
   "id": "portuguese-imperial",
   "metadata": {},
   "outputs": [
    {
     "data": {
      "text/plain": [
       "<AxesSubplot:>"
      ]
     },
     "execution_count": 43,
     "metadata": {},
     "output_type": "execute_result"
    },
    {
     "data": {
      "image/png": "[encoded data removed]",
      "text/plain": [
       "<Figure size 432x288 with 1 Axes>"
      ]
     },
     "metadata": {
      "needs_background": "light"
     },
     "output_type": "display_data"
    }
   ],
   "source": [
    "nis.boxplot()"
   ]
  },
  {
   "cell_type": "code",
   "execution_count": 44,
   "id": "norwegian-concert",
   "metadata": {},
   "outputs": [
    {
     "name": "stdout",
     "output_type": "stream",
     "text": [
      "Nis median = 22.5 \n"
     ]
    }
   ],
   "source": [
    "print(\"Nis median = {0} \".format(nis[\"nis_count\"].median() ))"
   ]
  },
  {
   "cell_type": "code",
   "execution_count": 45,
   "id": "tender-connection",
   "metadata": {},
   "outputs": [
    {
     "data": {
      "text/html": [
       "<div>\n",
       "<style scoped>\n",
       "    .dataframe tbody tr th:only-of-type {\n",
       "        vertical-align: middle;\n",
       "    }\n",
       "\n",
       "    .dataframe tbody tr th {\n",
       "        vertical-align: top;\n",
       "    }\n",
       "\n",
       "    .dataframe thead th {\n",
       "        text-align: right;\n",
       "    }\n",
       "</style>\n",
       "<table border=\"1\" class=\"dataframe\">\n",
       "  <thead>\n",
       "    <tr style=\"text-align: right;\">\n",
       "      <th></th>\n",
       "      <th>nis_count</th>\n",
       "    </tr>\n",
       "  </thead>\n",
       "  <tbody>\n",
       "    <tr>\n",
       "      <th>count</th>\n",
       "      <td>100.000000</td>\n",
       "    </tr>\n",
       "    <tr>\n",
       "      <th>mean</th>\n",
       "      <td>23.490000</td>\n",
       "    </tr>\n",
       "    <tr>\n",
       "      <th>std</th>\n",
       "      <td>3.445081</td>\n",
       "    </tr>\n",
       "    <tr>\n",
       "      <th>min</th>\n",
       "      <td>18.000000</td>\n",
       "    </tr>\n",
       "    <tr>\n",
       "      <th>25%</th>\n",
       "      <td>21.000000</td>\n",
       "    </tr>\n",
       "    <tr>\n",
       "      <th>50%</th>\n",
       "      <td>22.500000</td>\n",
       "    </tr>\n",
       "    <tr>\n",
       "      <th>75%</th>\n",
       "      <td>25.000000</td>\n",
       "    </tr>\n",
       "    <tr>\n",
       "      <th>max</th>\n",
       "      <td>34.000000</td>\n",
       "    </tr>\n",
       "  </tbody>\n",
       "</table>\n",
       "</div>"
      ],
      "text/plain": [
       "        nis_count\n",
       "count  100.000000\n",
       "mean    23.490000\n",
       "std      3.445081\n",
       "min     18.000000\n",
       "25%     21.000000\n",
       "50%     22.500000\n",
       "75%     25.000000\n",
       "max     34.000000"
      ]
     },
     "execution_count": 45,
     "metadata": {},
     "output_type": "execute_result"
    }
   ],
   "source": [
    "nis.describe()"
   ]
  },
  {
   "cell_type": "markdown",
   "id": "lyric-evans",
   "metadata": {},
   "source": [
    "### Датасет содержит время в очереди для незавершенных задач"
   ]
  },
  {
   "cell_type": "code",
   "execution_count": 31,
   "id": "falling-carol",
   "metadata": {},
   "outputs": [],
   "source": [
    "queue_eop_df = pd.read_excel(\"D:/YandexDisk/ВКР/Model/VKR/main_final_v2/queue_eop.xlsx\")"
   ]
  },
  {
   "cell_type": "code",
   "execution_count": 32,
   "id": "traditional-implement",
   "metadata": {},
   "outputs": [],
   "source": [
    "queue_eop_df[\"task\"]  = queue_eop_df.source_id.map(labelsDict)"
   ]
  },
  {
   "cell_type": "code",
   "execution_count": 33,
   "id": "nominated-connecticut",
   "metadata": {},
   "outputs": [
    {
     "data": {
      "text/html": [
       "<div>\n",
       "<style scoped>\n",
       "    .dataframe tbody tr th:only-of-type {\n",
       "        vertical-align: middle;\n",
       "    }\n",
       "\n",
       "    .dataframe tbody tr th {\n",
       "        vertical-align: top;\n",
       "    }\n",
       "\n",
       "    .dataframe thead th {\n",
       "        text-align: right;\n",
       "    }\n",
       "</style>\n",
       "<table border=\"1\" class=\"dataframe\">\n",
       "  <thead>\n",
       "    <tr style=\"text-align: right;\">\n",
       "      <th></th>\n",
       "      <th>source_id</th>\n",
       "      <th>queue_eop_time</th>\n",
       "      <th>task</th>\n",
       "    </tr>\n",
       "  </thead>\n",
       "  <tbody>\n",
       "    <tr>\n",
       "      <th>0</th>\n",
       "      <td>36</td>\n",
       "      <td>620.583333</td>\n",
       "      <td>JIRA_Infrastructure</td>\n",
       "    </tr>\n",
       "    <tr>\n",
       "      <th>1</th>\n",
       "      <td>35</td>\n",
       "      <td>352.016667</td>\n",
       "      <td>JIRA_Web</td>\n",
       "    </tr>\n",
       "    <tr>\n",
       "      <th>2</th>\n",
       "      <td>35</td>\n",
       "      <td>368.000000</td>\n",
       "      <td>JIRA_Web</td>\n",
       "    </tr>\n",
       "    <tr>\n",
       "      <th>3</th>\n",
       "      <td>35</td>\n",
       "      <td>208.000000</td>\n",
       "      <td>JIRA_Web</td>\n",
       "    </tr>\n",
       "    <tr>\n",
       "      <th>4</th>\n",
       "      <td>36</td>\n",
       "      <td>862.083333</td>\n",
       "      <td>JIRA_Infrastructure</td>\n",
       "    </tr>\n",
       "    <tr>\n",
       "      <th>...</th>\n",
       "      <td>...</td>\n",
       "      <td>...</td>\n",
       "      <td>...</td>\n",
       "    </tr>\n",
       "    <tr>\n",
       "      <th>2344</th>\n",
       "      <td>34</td>\n",
       "      <td>352.000000</td>\n",
       "      <td>JIRA_Report</td>\n",
       "    </tr>\n",
       "    <tr>\n",
       "      <th>2345</th>\n",
       "      <td>34</td>\n",
       "      <td>349.716667</td>\n",
       "      <td>JIRA_Report</td>\n",
       "    </tr>\n",
       "    <tr>\n",
       "      <th>2346</th>\n",
       "      <td>34</td>\n",
       "      <td>88.000000</td>\n",
       "      <td>JIRA_Report</td>\n",
       "    </tr>\n",
       "    <tr>\n",
       "      <th>2347</th>\n",
       "      <td>37</td>\n",
       "      <td>48.000000</td>\n",
       "      <td>JIRA_Portal</td>\n",
       "    </tr>\n",
       "    <tr>\n",
       "      <th>2348</th>\n",
       "      <td>37</td>\n",
       "      <td>673.600000</td>\n",
       "      <td>JIRA_Portal</td>\n",
       "    </tr>\n",
       "  </tbody>\n",
       "</table>\n",
       "<p>2349 rows × 3 columns</p>\n",
       "</div>"
      ],
      "text/plain": [
       "      source_id  queue_eop_time                 task\n",
       "0            36      620.583333  JIRA_Infrastructure\n",
       "1            35      352.016667             JIRA_Web\n",
       "2            35      368.000000             JIRA_Web\n",
       "3            35      208.000000             JIRA_Web\n",
       "4            36      862.083333  JIRA_Infrastructure\n",
       "...         ...             ...                  ...\n",
       "2344         34      352.000000          JIRA_Report\n",
       "2345         34      349.716667          JIRA_Report\n",
       "2346         34       88.000000          JIRA_Report\n",
       "2347         37       48.000000          JIRA_Portal\n",
       "2348         37      673.600000          JIRA_Portal\n",
       "\n",
       "[2349 rows x 3 columns]"
      ]
     },
     "execution_count": 33,
     "metadata": {},
     "output_type": "execute_result"
    }
   ],
   "source": [
    "queue_eop_df"
   ]
  },
  {
   "cell_type": "code",
   "execution_count": 34,
   "id": "responsible-beijing",
   "metadata": {},
   "outputs": [
    {
     "data": {
      "text/plain": [
       "task\n",
       "JIRA_Database          541.412990\n",
       "JIRA_Infrastructure    732.961195\n",
       "JIRA_Portal            599.538523\n",
       "JIRA_Report            287.078479\n",
       "JIRA_Web               404.411309\n",
       "Name: queue_eop_time, dtype: float64"
      ]
     },
     "execution_count": 34,
     "metadata": {},
     "output_type": "execute_result"
    }
   ],
   "source": [
    "queue_eop_df.groupby(\"task\").queue_eop_time.mean()"
   ]
  },
  {
   "cell_type": "code",
   "execution_count": 35,
   "id": "instrumental-passage",
   "metadata": {},
   "outputs": [
    {
     "data": {
      "text/plain": [
       "task\n",
       "JIRA_Database          2.04\n",
       "JIRA_Infrastructure    2.65\n",
       "JIRA_Portal            8.96\n",
       "JIRA_Report            3.09\n",
       "JIRA_Web               6.75\n",
       "Name: queue_eop_time, dtype: float64"
      ]
     },
     "execution_count": 35,
     "metadata": {},
     "output_type": "execute_result"
    }
   ],
   "source": [
    "queue_eop_df.groupby(\"task\").queue_eop_time.count()/nIterations"
   ]
  },
  {
   "cell_type": "markdown",
   "id": "postal-french",
   "metadata": {},
   "source": [
    "Небольшие проекты по Report и Web простаивают огромное количество времени в связи с уходом стажеров."
   ]
  },
  {
   "cell_type": "markdown",
   "id": "compact-facing",
   "metadata": {},
   "source": [
    "### Резюме\n",
    "Несмотря на то, что стажеры и завершают свои задачи быстро, все еще присутствует высокое время ожидания у других проектов. После окончания стажерской программы основной персонал вынужден выполнять работу с меньшими требованиями к квалификации.\n",
    "\n",
    "Были выявлены проблемы перегруженности основного персонала, недостаточной занятости стажеров, нестабильности выполнения задач."
   ]
  }
 ],
 "metadata": {
  "kernelspec": {
   "display_name": "Python 3",
   "language": "python",
   "name": "python3"
  },
  "language_info": {
   "codemirror_mode": {
    "name": "ipython",
    "version": 3
   },
   "file_extension": ".py",
   "mimetype": "text/x-python",
   "name": "python",
   "nbconvert_exporter": "python",
   "pygments_lexer": "ipython3",
   "version": "3.7.10"
  }
 },
 "nbformat": 4,
 "nbformat_minor": 5
}
